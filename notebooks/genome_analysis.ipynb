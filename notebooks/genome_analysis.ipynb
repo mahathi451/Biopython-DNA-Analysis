# %% [markdown]
# # Viral Genome Analysis Notebook
# 
# This notebook demonstrates comprehensive analysis of viral genomes including:
# - Genome statistics calculation
# - Motif discovery
# - ORF prediction
# - Phylogenetic analysis

# %%
from src.analysis.sequence import GenomeAnalyzer
from src.analysis.phylogenetics import PhylogeneticAnalyzer
from Bio import Phylo
import matplotlib.pyplot as plt

# %% [markdown]
# ## 1. Load Genome Data
# %%
analyzer = GenomeAnalyzer("../data/viral_genomes.fasta")

# %% [markdown]
# ## 2. Basic Genome Statistics
# %%
gc_content = analyzer.gc_content()
print("GC Content:")
for org, gc in gc_content.items():
    print(f"{org}: {gc:.2f}%")

# %% [markdown]
# ## 3. Motif Discovery
# %%
consensus_motif = analyzer.find_motifs(motif_length=8)
print(f"\nConserved Motif: {consensus_motif}")

# %% [markdown]
# ## 4. ORF Prediction
# %%
orfs = list(analyzer.orf_finder(min_length=300))
print(f"\nPredicted ORFs: {len(orfs)}")
for orf in orfs[:3]:  # Show first 3 ORFs
    print(f"ORF on {orf['id']}: {orf['start']}-{orf['end']} ({orf['strand']} strand)")

# %% [markdown]
# ## 5. Phylogenetic Analysis
# %%
# Create multiple sequence alignment (simplified example)
from Bio.Align.Applications import ClustalOmegaCommandline
clustal_cline = ClustalOmegaCommandline(
    infile="../data/viral_genomes.fasta",
    outfile="../data/aligned.fasta",
    verbose=True,
    auto=True
)
clustal_cline()

# %% [markdown]
# ### Build Phylogenetic Tree
# %%
pa = PhylogeneticAnalyzer("../data/aligned.fasta")
pa.calculate_distances(model='blastn')
tree = pa.build_tree(method='nj', bootstrap=100)

# %% [markdown]
# ### Visualize Phylogenetic Relationships
# %%
pa.visualize_tree(output_file="../results/phylogenetic_tree.png")

# %% [markdown]
# ### Interactive Tree Visualization
# %%
from ipywidgets import interact

def plot_tree(show_branch_labels=True):
    fig = plt.figure(figsize=(15, 10))
    ax = fig.add_subplot(111)
    Phylo.draw(tree, axes=ax, 
              branch_labels=lambda c: f"{c.branch_length:.2f}" if show_branch_labels else "")
    plt.show()

interact(plot_tree, show_branch_labels=True);
